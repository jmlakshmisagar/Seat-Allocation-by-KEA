{
 "cells": [
  {
   "cell_type": "code",
   "execution_count": 1,
   "id": "93a1e709",
   "metadata": {},
   "outputs": [],
   "source": [
    "import pandas as pd\n",
    "import matplotlib.pyplot as plt\n",
    "from matplotlib.backends.backend_pdf import PdfPages\n",
    "from datetime import datetime"
   ]
  },
  {
   "cell_type": "code",
   "execution_count": 2,
   "id": "764f8851",
   "metadata": {},
   "outputs": [],
   "source": [
    "cutoff=pd.read_csv('first-round-cutoff.csv')\n",
    "college = pd.read_csv('final_college_list.csv')\n",
    "college['College Code'] = college['College Code'].str[:6]"
   ]
  },
  {
   "cell_type": "code",
   "execution_count": 3,
   "id": "4421068d",
   "metadata": {},
   "outputs": [],
   "source": [
    "college.to_csv('final_college_list.csv',index=False)"
   ]
  },
  {
   "cell_type": "code",
   "execution_count": 4,
   "id": "ef5e4758",
   "metadata": {},
   "outputs": [],
   "source": [
    "cutoff_df = pd.read_csv('first-round-cutoff.csv')\n",
    "college_df = pd.read_csv('final_college_list.csv')\n",
    "cutoff_df = cutoff_df.sort_values(by='College Code')\n",
    "merged_df = cutoff_df.merge(college_df, on='College Code', how='left')\n",
    "\n",
    "current_date = datetime.now().strftime(\"%B %Y\")"
   ]
  },
  {
   "cell_type": "code",
   "execution_count": 9,
   "id": "97680dde",
   "metadata": {},
   "outputs": [],
   "source": [
    "def save_cutoff_df_to_pdf(df,headline, filename='cutoff_report.pdf'):\n",
    "    with PdfPages(filename) as pdf:\n",
    "        college_count = 0\n",
    "        page_number = 1\n",
    "        fig, ax = plt.subplots(figsize=(20, 14))\n",
    "        ax.axis('off')\n",
    "\n",
    "        title_y_position = 0.98\n",
    "\n",
    "        # Main title\n",
    "        ax.text(0.5, title_y_position, headline, \n",
    "                fontsize=20, ha='center', va='top', fontfamily='DejaVu Sans Mono')\n",
    "        # Current date\n",
    "        ax.text(0.95, title_y_position, current_date, fontsize=12,  \n",
    "                ha='right', va='top', fontfamily='DejaVu Sans Mono')\n",
    "\n",
    "        # Iterate through each college group\n",
    "        for (college_code, college_name), group in df.groupby(['College Code', 'College Name']):\n",
    "            if college_count % 10 == 0 and college_count != 0:\n",
    "                # Add page number to each page\n",
    "                ax.text(0.95, 0.01, f'Page {page_number}', fontsize=12, ha='right', va='bottom', fontfamily='DejaVu Sans Mono')\n",
    "                pdf.savefig(fig, bbox_inches='tight', pad_inches=0.2)\n",
    "                plt.close(fig)\n",
    "                page_number += 1\n",
    "                fig, ax = plt.subplots(figsize=(20, 14))\n",
    "                ax.axis('off')\n",
    "                ax.text(0.5, title_y_position, headline, \n",
    "                        fontsize=20, ha='center', va='top', fontfamily='DejaVu Sans Mono')\n",
    "                ax.text(0.95, title_y_position, current_date, fontsize=12, ha='right', va='top', fontfamily='DejaVu Sans Mono')\n",
    "\n",
    "            # College title\n",
    "            college_title_y = title_y_position - 0.05 - (college_count % 10) * 0.09\n",
    "            ax.text(0.05, college_title_y, f\"{college_code} - {college_name}\", \n",
    "                    fontsize=14, ha='left', va='top', fontfamily='DejaVu Sans Mono')\n",
    "\n",
    "            # Display cutoff data for each college\n",
    "            cutoff_data = group.iloc[:, 1:-1]\n",
    "            table_start_y = college_title_y - 0.075\n",
    "            table = ax.table(cellText=cutoff_data.values, colLabels=cutoff_data.columns, \n",
    "                             cellLoc='center', loc='center', bbox=[0.05, table_start_y, 0.8, 0.05])\n",
    "            table.auto_set_font_size(False)\n",
    "            table.set_fontsize(10)\n",
    "            table.scale(1.2, 0.5)\n",
    "\n",
    "            # Style the table\n",
    "            for (i, j), cell in table.get_celld().items():\n",
    "                if i == 0:\n",
    "                    cell.set_text_props(color='black', fontsize=10, fontfamily='DejaVu Sans Mono')\n",
    "                    cell.set_facecolor('#f4f4f4')\n",
    "                else:\n",
    "                    cell.set_text_props(fontfamily='DejaVu Sans Mono')\n",
    "                    cell.set_facecolor('#FFFFFF')\n",
    "                    if cutoff_data.iloc[i - 1, j] == '--':\n",
    "                        cell.set_facecolor('#F9F9F9')\n",
    "            \n",
    "            college_count += 1\n",
    "\n",
    "        # Save the final page and add the page number\n",
    "        ax.text(0.95, 0.01, f'Page {page_number}', fontsize=12, ha='right', va='bottom', fontfamily='DejaVu Sans Mono')\n",
    "        pdf.savefig(fig, bbox_inches='tight', pad_inches=0.15)\n",
    "        plt.close(fig)\n"
   ]
  },
  {
   "cell_type": "code",
   "execution_count": 10,
   "id": "a9b55203",
   "metadata": {},
   "outputs": [
    {
     "name": "stdout",
     "output_type": "stream",
     "text": [
      "successsssssssssss\n"
     ]
    }
   ],
   "source": [
    "save_cutoff_df_to_pdf(merged_df,\"MCA CUTOFF RANK OF PGCET-2023 - MOCK ROUND ALLOTMENT\")\n",
    "\n",
    "\n",
    "\n",
    "\n",
    "print(\"successsssssssssss\")"
   ]
  },
  {
   "cell_type": "code",
   "execution_count": null,
   "id": "3db50d86",
   "metadata": {},
   "outputs": [],
   "source": []
  }
 ],
 "metadata": {
  "kernelspec": {
   "display_name": "Python 3 (ipykernel)",
   "language": "python",
   "name": "python3"
  },
  "language_info": {
   "codemirror_mode": {
    "name": "ipython",
    "version": 3
   },
   "file_extension": ".py",
   "mimetype": "text/x-python",
   "name": "python",
   "nbconvert_exporter": "python",
   "pygments_lexer": "ipython3",
   "version": "3.12.3"
  }
 },
 "nbformat": 4,
 "nbformat_minor": 5
}
