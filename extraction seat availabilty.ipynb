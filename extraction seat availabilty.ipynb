{
 "cells": [
  {
   "cell_type": "code",
   "execution_count": 10,
   "id": "40c94b50",
   "metadata": {},
   "outputs": [
    {
     "name": "stdout",
     "output_type": "stream",
     "text": [
      "Data saved to college_seats_cleaned.csv\n"
     ]
    }
   ],
   "source": [
    "import pdfplumber\n",
    "import pandas as pd\n",
    "import re\n",
    "import csv\n",
    "\n",
    "desired_categories = ['1G', '1H', '2AG', '2AH', '2BG', '2BH', \n",
    "                      '3AG', '3AH', '3BG', '3BH', 'GM', \n",
    "                      'GMH', 'NKN', 'PH', 'SCG', 'SCH', \n",
    "                      'STG', 'STH', 'XD']\n",
    "\n",
    "def is_numeric(s):\n",
    "    try:\n",
    "        float(s)\n",
    "        return True\n",
    "    except ValueError:\n",
    "        return False\n",
    "\n",
    "file_path = \"MCA_BULL_2023_FREE_C_FINenglish.pdf\"\n",
    "college_data = []\n",
    "\n",
    "with pdfplumber.open(file_path) as pdf:\n",
    "    for page in pdf.pages:\n",
    "        text = page.extract_text().split('\\n')\n",
    "        \n",
    "        college_code_pattern = re.compile(r'C\\d{3}MC')\n",
    "        \n",
    "        for i, line in enumerate(text):\n",
    "            if college_code_pattern.search(line):\n",
    "                college_code = college_code_pattern.search(line).group()\n",
    "\n",
    "                if i + 1 < len(text):\n",
    "                    seat_info_line = text[i]\n",
    "                    seat_info = seat_info_line.split()\n",
    "\n",
    "                    if len(seat_info) >= len(desired_categories) + 1:\n",
    "                        total_seats = seat_info[-1]\n",
    "                        seat_availability = ['0'] * len(desired_categories)\n",
    "\n",
    "                        num_idx = 0\n",
    "                        for item in seat_info:\n",
    "                            if is_numeric(item) and num_idx < len(desired_categories):\n",
    "                                seat_availability[num_idx] = item\n",
    "                                num_idx += 1\n",
    "                        \n",
    "                        college_data.append([college_code] + seat_availability + [total_seats])\n",
    "\n",
    "columns = ['College Code'] + desired_categories + ['Total Seats']\n",
    "df = pd.DataFrame(college_data, columns=columns)\n",
    "\n",
    "csv_file_path = \"college_seats_cleaned.csv\"\n",
    "df.to_csv(csv_file_path, index=False, quoting=csv.QUOTE_NONE, escapechar='\\\\')\n",
    "print(f\"Data saved to {csv_file_path}\")\n"
   ]
  },
  {
   "cell_type": "code",
   "execution_count": null,
   "id": "bc662b45",
   "metadata": {},
   "outputs": [],
   "source": []
  }
 ],
 "metadata": {
  "kernelspec": {
   "display_name": "Python 3 (ipykernel)",
   "language": "python",
   "name": "python3"
  },
  "language_info": {
   "codemirror_mode": {
    "name": "ipython",
    "version": 3
   },
   "file_extension": ".py",
   "mimetype": "text/x-python",
   "name": "python",
   "nbconvert_exporter": "python",
   "pygments_lexer": "ipython3",
   "version": "3.12.3"
  }
 },
 "nbformat": 4,
 "nbformat_minor": 5
}
